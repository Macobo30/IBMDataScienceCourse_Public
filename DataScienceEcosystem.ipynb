{
 "cells": [
  {
   "cell_type": "markdown",
   "id": "f9cc04ff-2e45-4a25-9bff-83efeae15339",
   "metadata": {},
   "source": [
    "# Data Science Tools and Ecosystem"
   ]
  },
  {
   "cell_type": "markdown",
   "id": "20f05f61-2333-4268-8201-4faf1ef23cc8",
   "metadata": {},
   "source": [
    "## In this notebook, Data Science Tools and Ecosystem are summarized."
   ]
  },
  {
   "cell_type": "markdown",
   "id": "92a13961-6854-4844-bc83-b17ab8db76cd",
   "metadata": {},
   "source": [
    "**Objectives:**\n",
    "* List popular languages for Data Science\n",
    "* List commonly used libraries used by Data Scientists\n",
    "* List open source tools used in data science\n",
    "* Demonstrate basic arithmetic operations\n",
    "* Apply some basic arithmetic operations that is used in daily life"
   ]
  },
  {
   "cell_type": "markdown",
   "id": "fe3ced24-c277-4fa1-a9af-3ef096c8686c",
   "metadata": {},
   "source": [
    "## Some of the popular languages that Data Scientists use are:\n",
    "1. Python\n",
    "2. R\n",
    "3. Julia"
   ]
  },
  {
   "cell_type": "markdown",
   "id": "23d0763e-c09a-433a-979d-5f04786f7be7",
   "metadata": {},
   "source": [
    "## Some of the commonly used libraries used by Data Scientists include:\n",
    "1. numpy\n",
    "2. pandas\n",
    "3. matplotlib\n",
    "4. stringr\n",
    "5. dplyr\n",
    "6. ggplot2"
   ]
  },
  {
   "cell_type": "markdown",
   "id": "864ea869-98e4-4972-8252-eaf5db6559dc",
   "metadata": {},
   "source": [
    "|Data Science Tools|\n",
    "|------------------|\n",
    "| Jupyter Notebook |\n",
    "| Jupyter Lab |\n",
    "| RStudio |"
   ]
  },
  {
   "cell_type": "markdown",
   "id": "eaa76ab6-8f76-4cb5-acb9-bd87ea85d621",
   "metadata": {},
   "source": [
    "### Below are a fex examples of evaluating arithmetic expressions in Python"
   ]
  },
  {
   "cell_type": "code",
   "execution_count": 3,
   "id": "0301c655-41d7-4dd6-b068-c610b8deff3f",
   "metadata": {},
   "outputs": [
    {
     "data": {
      "text/plain": [
       "17"
      ]
     },
     "execution_count": 3,
     "metadata": {},
     "output_type": "execute_result"
    }
   ],
   "source": [
    "# This is a simple arithmetic expression to multiply then add integers\n",
    "(3*4)+5"
   ]
  },
  {
   "cell_type": "code",
   "execution_count": 4,
   "id": "0a902fa1-d0f8-4cf3-ad1a-2ed365baa54c",
   "metadata": {},
   "outputs": [
    {
     "data": {
      "text/plain": [
       "3.3333333333333335"
      ]
     },
     "execution_count": 4,
     "metadata": {},
     "output_type": "execute_result"
    }
   ],
   "source": [
    "# This will convert 200 minutes to hours by dividing by 60\n",
    "200/60"
   ]
  },
  {
   "cell_type": "markdown",
   "id": "5d4537ec-8529-49be-ae0e-7b473f9adced",
   "metadata": {},
   "source": [
    "## Author\n",
    "Mark Adrian Borbon"
   ]
  },
  {
   "cell_type": "code",
   "execution_count": null,
   "id": "91078f06-1cd2-4c07-9f6e-671867a277d2",
   "metadata": {},
   "outputs": [],
   "source": []
  }
 ],
 "metadata": {
  "kernelspec": {
   "display_name": "Python 3 (ipykernel)",
   "language": "python",
   "name": "python3"
  },
  "language_info": {
   "codemirror_mode": {
    "name": "ipython",
    "version": 3
   },
   "file_extension": ".py",
   "mimetype": "text/x-python",
   "name": "python",
   "nbconvert_exporter": "python",
   "pygments_lexer": "ipython3",
   "version": "3.12.9"
  }
 },
 "nbformat": 4,
 "nbformat_minor": 5
}
